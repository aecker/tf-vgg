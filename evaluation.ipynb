{
 "cells": [
  {
   "cell_type": "code",
   "execution_count": 2,
   "metadata": {
    "ExecuteTime": {
     "end_time": "2016-10-04T17:24:55.266366",
     "start_time": "2016-10-04T17:24:53.742875"
    },
    "collapsed": false
   },
   "outputs": [
    {
     "name": "stdout",
     "output_type": "stream",
     "text": [
      "The autoreload extension is already loaded. To reload it, use:\n",
      "  %reload_ext autoreload\n"
     ]
    }
   ],
   "source": [
    "%load_ext autoreload\n",
    "%autoreload 2\n",
    "%matplotlib inline\n",
    "\n",
    "import tensorflow as tf\n",
    "slim = tf.contrib.slim\n",
    "tf.logging.set_verbosity(tf.logging.INFO)\n",
    "\n",
    "import sys\n",
    "import glob\n",
    "\n",
    "IMAGENET_DATA = '/gpfs01/bethge/data/imagenet'\n",
    "VGG_CKPT_FILE = '/gpfs01/bethge/data/tf-model-checkpoints/vgg_normalized_complete.ckpt'\n",
    "SLIM_MODELS_PATH = '/gpfs01/bethge/home/aecker/lab/projects/tf-models/slim'\n",
    "\n",
    "if SLIM_MODELS_PATH not in sys.path:\n",
    "    sys.path.append(SLIM_MODELS_PATH)\n",
    "from datasets import imagenet\n",
    "from preprocessing import vgg_preprocessing\n",
    "\n",
    "import vgg"
   ]
  },
  {
   "cell_type": "code",
   "execution_count": 3,
   "metadata": {
    "collapsed": false
   },
   "outputs": [
    {
     "name": "stderr",
     "output_type": "stream",
     "text": [
      "INFO:tensorflow:Executing eval ops\n",
      "INFO:tensorflow:Executing eval_op 1/10\n",
      "INFO:tensorflow:Executing eval_op 2/10\n",
      "INFO:tensorflow:Executing eval_op 3/10\n",
      "INFO:tensorflow:Executing eval_op 4/10\n",
      "INFO:tensorflow:Executing eval_op 5/10\n",
      "INFO:tensorflow:Executing eval_op 6/10\n",
      "INFO:tensorflow:Executing eval_op 7/10\n",
      "INFO:tensorflow:Executing eval_op 8/10\n",
      "INFO:tensorflow:Executing eval_op 9/10\n",
      "INFO:tensorflow:Executing eval_op 10/10\n",
      "INFO:tensorflow:Executing final op\n"
     ]
    },
    {
     "name": "stdout",
     "output_type": "stream",
     "text": [
      "0.9\n"
     ]
    }
   ],
   "source": [
    "with tf.Graph().as_default():\n",
    "    \n",
    "    # preprocessing\n",
    "    with tf.device('/cpu:0'):\n",
    "        dataset = imagenet.get_split('validation', IMAGENET_DATA)\n",
    "        provider = slim.dataset_data_provider.DatasetDataProvider(\n",
    "            dataset, num_readers=5, shuffle=False)\n",
    "        raw_image, raw_label = provider.get(['image', 'label'])\n",
    "        image = vgg_preprocessing.preprocess_image(\n",
    "            raw_image, 224, 224, is_training=False, resize_side_min=256)\n",
    "        label = tf.sub(raw_label, 1) # 1..1000 to 0..999\n",
    "        \n",
    "    # VGG\n",
    "    images, labels = tf.train.batch([image, label], batch_size=32, capacity=256)\n",
    "    end_points = vgg.loss_vgg(images, subtract_mean=False, final_endpoint='fc8')\n",
    "    predictions = tf.squeeze(end_points['fc8'], [1, 2])\n",
    "    \n",
    "    # evaluation ops\n",
    "    metric_op, update_op = slim.metrics.streaming_recall_at_k(predictions, labels, k=5)\n",
    "    \n",
    "    # initialization and checkpoint loading \n",
    "    initial_op = tf.group(\n",
    "        tf.initialize_all_variables(),\n",
    "        tf.initialize_local_variables())\n",
    "    restorer = tf.train.Saver(slim.get_model_variables())\n",
    "    \n",
    "    # run evaluation session\n",
    "    with tf.Session() as sess:\n",
    "        sess.run(initial_op)\n",
    "        restorer.restore(sess, VGG_CKPT_FILE)\n",
    "        with slim.queues.QueueRunners(sess):\n",
    "            metric_values = slim.evaluation.evaluation(\n",
    "                sess,\n",
    "                num_evals=10,\n",
    "                initial_op=None,\n",
    "                eval_op=update_op,\n",
    "                final_op=metric_op)\n",
    "\n",
    "# Output performance metric\n",
    "print(metric_values)"
   ]
  },
  {
   "cell_type": "code",
   "execution_count": null,
   "metadata": {
    "collapsed": true
   },
   "outputs": [],
   "source": []
  }
 ],
 "metadata": {
  "gist": {
   "data": {
    "description": "vgg_evaluation_minimal_shared.ipynb",
    "public": false
   },
   "id": ""
  },
  "kernelspec": {
   "display_name": "Python 3",
   "language": "python",
   "name": "python3"
  }
 },
 "nbformat": 4,
 "nbformat_minor": 1
}
